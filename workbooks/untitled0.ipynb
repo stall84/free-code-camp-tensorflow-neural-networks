{
 "cells": [
  {
   "cell_type": "markdown",
   "id": "798c96f3",
   "metadata": {},
   "source": [
    "### Practicing/Testing Python Kernel Tensorflow Basics and Installation"
   ]
  },
  {
   "cell_type": "code",
   "execution_count": 1,
   "id": "7504ff15",
   "metadata": {},
   "outputs": [
    {
     "name": "stderr",
     "output_type": "stream",
     "text": [
      "2025-04-21 20:20:06.210530: I tensorflow/core/platform/cpu_feature_guard.cc:210] This TensorFlow binary is optimized to use available CPU instructions in performance-critical operations.\n",
      "To enable the following instructions: AVX2 FMA, in other operations, rebuild TensorFlow with the appropriate compiler flags.\n"
     ]
    }
   ],
   "source": [
    "import numpy as np\n",
    "import tensorflow as tf\n"
   ]
  },
  {
   "cell_type": "code",
   "execution_count": 2,
   "id": "ce81b448",
   "metadata": {},
   "outputs": [
    {
     "name": "stdout",
     "output_type": "stream",
     "text": [
      "TensorFlow version: <module 'tensorflow._api.v2.version' from '/usr/local/lib/python3.11/site-packages/tensorflow/_api/v2/version/__init__.py'>\n",
      "NumPy version: 1.24.3\n"
     ]
    }
   ],
   "source": [
    "print('TensorFlow version:', tf.version)\n",
    "print('NumPy version:', np.__version__)"
   ]
  },
  {
   "cell_type": "markdown",
   "id": "375041d8",
   "metadata": {},
   "source": [
    "## Tensors \n",
    "\"A tensor is a generalization of vectors and matrices to potentially higher dimensions. Internally, TensorFlow represents tensors as n-dimensional arrays of base datatypes.\" (https://www.tensorflow.org/guide/tensor)\n",
    "\n",
    "It should't surprise you that tensors are a fundemental apsect of TensorFlow. They are the main objects that are passed around and manipluated throughout the program. Each tensor represents a partialy defined computation that will eventually produce a value. TensorFlow programs work by building a graph of Tensor objects that details how tensors are related. Running different parts of the graph allow results to be generated.\n",
    "\n",
    "Each tensor has a data type and a shape. \n",
    "\n",
    "**Data Types Include**: float32, int32, string and others.\n",
    "\n",
    "**Shape**: Represents the dimension of data.\n",
    "\n",
    "Just like vectors and matrices tensors can have operations applied to them like addition, subtraction, dot product, cross product etc.\n",
    "\n",
    "In the next sections we will discuss some different properties of tensors. This is to make you more familiar with how tensorflow represnts data and how you can manipulate this data.\n"
   ]
  },
  {
   "cell_type": "code",
   "execution_count": 5,
   "id": "039f6826",
   "metadata": {},
   "outputs": [],
   "source": [
    "string = tf.Variable('Hello, TensorFlow!')\n",
    "number = tf.Variable(324, dtype=tf.int16)\n",
    "floating = tf.Variable(3.567, dtype=tf.float64)"
   ]
  },
  {
   "cell_type": "markdown",
   "id": "c16304c5",
   "metadata": {},
   "source": [
    "## Rank/Degree of Tensors\n",
    "\n",
    "Another word for rank is degree, these terms simply mean the number of dimensions involved in the tensor. What we created above is a _tensor of rank 0_, also known as a __scalar__.\n",
    "\n",
    "- Below notice how the _rank_ of the tensor is practically __the deepest level of nested lists/arrays.__"
   ]
  },
  {
   "cell_type": "code",
   "execution_count": 8,
   "id": "b4012d18",
   "metadata": {},
   "outputs": [
    {
     "name": "stdout",
     "output_type": "stream",
     "text": [
      "tf.Tensor(1, shape=(), dtype=int32)\n",
      "tf.Tensor(2, shape=(), dtype=int32)\n"
     ]
    }
   ],
   "source": [
    "rank1_tensor = tf.Variable([\"Test\"], dtype=tf.string)\n",
    "rank2_tensor = tf.Variable([[1, 2, 3], [4, 5, 6]], dtype=tf.int32)\n",
    "\n",
    "print(tf.rank(rank1_tensor))\n",
    "print(tf.rank(rank2_tensor))"
   ]
  }
 ],
 "metadata": {
  "kernelspec": {
   "display_name": "Python 3",
   "language": "python",
   "name": "python3"
  },
  "language_info": {
   "codemirror_mode": {
    "name": "ipython",
    "version": 3
   },
   "file_extension": ".py",
   "mimetype": "text/x-python",
   "name": "python",
   "nbconvert_exporter": "python",
   "pygments_lexer": "ipython3",
   "version": "3.11.10"
  }
 },
 "nbformat": 4,
 "nbformat_minor": 5
}
