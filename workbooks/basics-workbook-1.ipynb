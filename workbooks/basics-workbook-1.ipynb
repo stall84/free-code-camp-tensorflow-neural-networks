{
 "cells": [
  {
   "cell_type": "markdown",
   "id": "798c96f3",
   "metadata": {},
   "source": [
    "### Practicing/Testing Python Kernel Tensorflow Basics and Installation"
   ]
  },
  {
   "cell_type": "code",
   "execution_count": 1,
   "id": "7504ff15",
   "metadata": {},
   "outputs": [
    {
     "name": "stderr",
     "output_type": "stream",
     "text": [
      "2025-04-26 12:25:43.258186: I tensorflow/core/platform/cpu_feature_guard.cc:210] This TensorFlow binary is optimized to use available CPU instructions in performance-critical operations.\n",
      "To enable the following instructions: AVX2 FMA, in other operations, rebuild TensorFlow with the appropriate compiler flags.\n"
     ]
    }
   ],
   "source": [
    "import numpy as np\n",
    "import tensorflow as tf\n"
   ]
  },
  {
   "cell_type": "code",
   "execution_count": 2,
   "id": "ce81b448",
   "metadata": {},
   "outputs": [
    {
     "name": "stdout",
     "output_type": "stream",
     "text": [
      "TensorFlow version: <module 'tensorflow._api.v2.version' from '/usr/local/lib/python3.11/site-packages/tensorflow/_api/v2/version/__init__.py'>\n",
      "NumPy version: 1.24.3\n"
     ]
    }
   ],
   "source": [
    "print('TensorFlow version:', tf.version)\n",
    "print('NumPy version:', np.__version__)"
   ]
  },
  {
   "cell_type": "markdown",
   "id": "375041d8",
   "metadata": {},
   "source": [
    "## Tensors \n",
    "\"A tensor is a generalization of vectors and matrices to potentially higher dimensions. Internally, TensorFlow represents tensors as n-dimensional arrays of base datatypes.\" (https://www.tensorflow.org/guide/tensor)\n",
    "\n",
    "It should't surprise you that tensors are a fundemental apsect of TensorFlow. They are the main objects that are passed around and manipluated throughout the program. Each tensor represents a partialy defined computation that will eventually produce a value. TensorFlow programs work by building a graph of Tensor objects that details how tensors are related. Running different parts of the graph allow results to be generated.\n",
    "\n",
    "Each tensor has a data type and a shape. \n",
    "\n",
    "**Data Types Include**: float32, int32, string and others.\n",
    "\n",
    "**Shape**: Represents the dimension of data.\n",
    "\n",
    "Just like vectors and matrices tensors can have operations applied to them like addition, subtraction, dot product, cross product etc.\n",
    "\n",
    "In the next sections we will discuss some different properties of tensors. This is to make you more familiar with how tensorflow represnts data and how you can manipulate this data.\n"
   ]
  },
  {
   "cell_type": "code",
   "execution_count": 3,
   "id": "039f6826",
   "metadata": {},
   "outputs": [],
   "source": [
    "string = tf.Variable('Hello, TensorFlow!')\n",
    "number = tf.Variable(324, dtype=tf.int16)\n",
    "floating = tf.Variable(3.567, dtype=tf.float64)"
   ]
  },
  {
   "cell_type": "markdown",
   "id": "c16304c5",
   "metadata": {},
   "source": [
    "## Rank/Degree of Tensors\n",
    "\n",
    "Another word for rank is degree, these terms simply mean the number of dimensions involved in the tensor. What we created above is a _tensor of rank 0_, also known as a __scalar__.\n",
    "\n",
    "- Below notice how the _rank_ of the tensor is practically __the deepest level of nested lists/arrays.__"
   ]
  },
  {
   "cell_type": "code",
   "execution_count": 4,
   "id": "b4012d18",
   "metadata": {},
   "outputs": [
    {
     "data": {
      "text/plain": [
       "<tf.Tensor: shape=(), dtype=int32, numpy=2>"
      ]
     },
     "execution_count": 4,
     "metadata": {},
     "output_type": "execute_result"
    }
   ],
   "source": [
    "rank1_tensor = tf.Variable([\"Test\"], dtype=tf.string)\n",
    "rank2_tensor = tf.Variable([[1, 2, 3,], [4, 5, 6]], dtype=tf.int32)\n",
    "\n",
    "tf.rank(rank1_tensor)\n",
    "tf.rank(rank2_tensor)"
   ]
  },
  {
   "cell_type": "markdown",
   "id": "d263f0bb",
   "metadata": {},
   "source": [
    "## Shape of Tensors\n",
    "\n",
    "- The shape of a tensor is simply __the number of elements that exist in each dimension.__ TensorFlow will try to determine the shape of a tensor but sometimes it may be unknown.\n",
    "- The shape can be output using the `.shape` attribute on a tensor"
   ]
  },
  {
   "cell_type": "code",
   "execution_count": null,
   "id": "79866cf1",
   "metadata": {},
   "outputs": [
    {
     "data": {
      "text/plain": [
       "TensorShape([2, 3])"
      ]
     },
     "execution_count": 6,
     "metadata": {},
     "output_type": "execute_result"
    }
   ],
   "source": [
    "# Notice how there are 2 inner lists in rank2_tensor, each with 3 elements\n",
    "rank2_tensor.shape"
   ]
  },
  {
   "cell_type": "markdown",
   "id": "2891bc70",
   "metadata": {},
   "source": [
    "## Changing Shape\n",
    "- The number of elements of a tensor is the product of the sizes of all its shapes. There are often many shapes that have the same number of elements, making it convient to be able to change the shape of a tensor."
   ]
  },
  {
   "cell_type": "code",
   "execution_count": 9,
   "id": "4446e055",
   "metadata": {},
   "outputs": [
    {
     "name": "stdout",
     "output_type": "stream",
     "text": [
      "tf.Tensor(\n",
      "[[[1. 1. 1.]\n",
      "  [1. 1. 1.]]], shape=(1, 2, 3), dtype=float32)\n",
      "tf.Tensor(\n",
      "[[[1.]\n",
      "  [1.]\n",
      "  [1.]]\n",
      "\n",
      " [[1.]\n",
      "  [1.]\n",
      "  [1.]]], shape=(2, 3, 1), dtype=float32)\n",
      "tf.Tensor(\n",
      "[[1. 1.]\n",
      " [1. 1.]\n",
      " [1. 1.]], shape=(3, 2), dtype=float32)\n"
     ]
    }
   ],
   "source": [
    "tensor1 = tf.ones([1,2,3])  # Expect to look like [[[1,1,1],[1,1,1]]]\n",
    "print(tensor1)\n",
    "# We have 6 elements in this tensor1. So we can reshape the tensor to anything that combines to 6 elements. \n",
    "tensor2 = tf.reshape(tensor1, [2, 3, 1])\n",
    "print(tensor2)\n",
    "tensor3 = tf.reshape(tensor2, [3, -1])  # -1 directs the tensor to calculate the size of the dimension in that place for us. (in this case it will calculate 2 elements: [3, 2])\n",
    "print(tensor3)"
   ]
  }
 ],
 "metadata": {
  "kernelspec": {
   "display_name": "Python 3",
   "language": "python",
   "name": "python3"
  },
  "language_info": {
   "codemirror_mode": {
    "name": "ipython",
    "version": 3
   },
   "file_extension": ".py",
   "mimetype": "text/x-python",
   "name": "python",
   "nbconvert_exporter": "python",
   "pygments_lexer": "ipython3",
   "version": "3.11.10"
  }
 },
 "nbformat": 4,
 "nbformat_minor": 5
}
