{
 "cells": [
  {
   "cell_type": "markdown",
   "id": "e1d7386b",
   "metadata": {},
   "source": [
    "## Core Learning Algorithms\n",
    "- Linear Regression\n",
    "- Classification\n",
    "- Clustering\n",
    "- Hidden Markov Models"
   ]
  },
  {
   "cell_type": "markdown",
   "id": "5b534e40",
   "metadata": {},
   "source": [
    "### Linear Regression\n",
    "- Great for predicting _continuous_ numerical values\n",
    "- Your data _must_ be linear in shape/nature for it to be translatable or usable by a linear regression model. Most real world data, is not. "
   ]
  }
 ],
 "metadata": {
  "kernelspec": {
   "display_name": "Python 3",
   "language": "python",
   "name": "python3"
  },
  "language_info": {
   "name": "python",
   "version": "3.11.10"
  }
 },
 "nbformat": 4,
 "nbformat_minor": 5
}
