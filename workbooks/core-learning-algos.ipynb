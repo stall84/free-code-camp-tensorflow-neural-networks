{
 "cells": [
  {
   "cell_type": "markdown",
   "id": "e1d7386b",
   "metadata": {},
   "source": [
    "## Core Learning Algorithms\n",
    "- Linear Regression\n",
    "- Classification\n",
    "- Clustering\n",
    "- Hidden Markov Models"
   ]
  },
  {
   "cell_type": "markdown",
   "id": "5b534e40",
   "metadata": {},
   "source": [
    "### Linear Regression\n",
    "- Great for predicting _continuous_ numerical values\n",
    "- Your data _must_ be _linear_ in shape/nature for it to be modeled accurately by linear regression, but the reality is real-word data is rarely structured this way."
   ]
  },
  {
   "cell_type": "code",
   "execution_count": 1,
   "id": "00fc8430",
   "metadata": {},
   "outputs": [],
   "source": [
    "import os\n",
    "import sys\n",
    "from __future__ import absolute_import, division, print_function, unicode_literals"
   ]
  },
  {
   "cell_type": "code",
   "execution_count": 2,
   "id": "1f3e02e9",
   "metadata": {},
   "outputs": [
    {
     "name": "stdout",
     "output_type": "stream",
     "text": [
      "keras                        3.9.2\n",
      "tensorflow                   2.16.2\n",
      "tensorflow-io-gcs-filesystem 0.37.1\n"
     ]
    }
   ],
   "source": [
    "!pip list | grep -E 'tensorflow|keras'"
   ]
  },
  {
   "cell_type": "code",
   "execution_count": 3,
   "id": "03cc8ac2",
   "metadata": {},
   "outputs": [
    {
     "name": "stderr",
     "output_type": "stream",
     "text": [
      "/var/folders/fy/sdkjccl94_n8cnq_k1rbmzp40000gn/T/ipykernel_13877/3301962057.py:2: DeprecationWarning: \n",
      "Pyarrow will become a required dependency of pandas in the next major release of pandas (pandas 3.0),\n",
      "(to allow more performant data types, such as the Arrow string type, and better interoperability with other libraries)\n",
      "but was not found to be installed on your system.\n",
      "If this would cause problems for you,\n",
      "please provide us feedback at https://github.com/pandas-dev/pandas/issues/54466\n",
      "        \n",
      "  import pandas as pd\n",
      "2025-05-18 20:00:03.652416: I tensorflow/core/platform/cpu_feature_guard.cc:210] This TensorFlow binary is optimized to use available CPU instructions in performance-critical operations.\n",
      "To enable the following instructions: AVX2 FMA, in other operations, rebuild TensorFlow with the appropriate compiler flags.\n"
     ]
    },
    {
     "name": "stdout",
     "output_type": "stream",
     "text": [
      "2.16.2\n"
     ]
    }
   ],
   "source": [
    "import numpy as np\n",
    "import pandas as pd\n",
    "import matplotlib.pyplot as plt\n",
    "from IPython.display import clear_output\n",
    "from six.moves import urllib\n",
    "\n",
    "# import tensorflow.compat.v2.feature_column as fc\n",
    "\n",
    "import tensorflow as tf\n",
    "\n",
    "from tensorflow.keras import layers\n",
    "\n",
    "print(tf.__version__)\n",
    "# print(tf.keras.backend.backend())"
   ]
  },
  {
   "cell_type": "code",
   "execution_count": 4,
   "id": "20d7adbf",
   "metadata": {},
   "outputs": [
    {
     "name": "stdout",
     "output_type": "stream",
     "text": [
      "   survived     sex   age  n_siblings_spouses  parch     fare  class     deck  \\\n",
      "0         0    male  22.0                   1      0   7.2500  Third  unknown   \n",
      "1         1  female  38.0                   1      0  71.2833  First        C   \n",
      "2         1  female  26.0                   0      0   7.9250  Third  unknown   \n",
      "3         1  female  35.0                   1      0  53.1000  First        C   \n",
      "4         0    male  28.0                   0      0   8.4583  Third  unknown   \n",
      "\n",
      "   embark_town alone  \n",
      "0  Southampton     n  \n",
      "1    Cherbourg     n  \n",
      "2  Southampton     y  \n",
      "3  Southampton     n  \n",
      "4   Queenstown     y  \n"
     ]
    }
   ],
   "source": [
    "dftrain = pd.read_csv('../data/titanic-survivor-training-data.csv')\n",
    "dfevaluate = pd.read_csv('../data/titanic-survivor-evaluation-data.csv')\n",
    "print(dftrain.head())\n",
    "# pop the relevant target column off for both sets.\n",
    "y_train = dftrain.pop('survived')\n",
    "y_eval = dfevaluate.pop('survived')"
   ]
  },
  {
   "cell_type": "code",
   "execution_count": 5,
   "id": "3b7ec49e",
   "metadata": {},
   "outputs": [
    {
     "name": "stdout",
     "output_type": "stream",
     "text": [
      "(627, 9)\n",
      "Axes(0.125,0.11;0.775x0.77)\n"
     ]
    },
    {
     "data": {
      "image/png": "[encoded data removed]",
      "text/plain": [
       "<Figure size 640x480 with 1 Axes>"
      ]
     },
     "metadata": {},
     "output_type": "display_data"
    }
   ],
   "source": [
    "\n",
    "print(dftrain.shape)\n",
    "\n",
    "print(dftrain.age.hist(bins=20))"
   ]
  },
  {
   "cell_type": "code",
   "execution_count": 6,
   "id": "e5f92f2a",
   "metadata": {},
   "outputs": [
    {
     "data": {
      "text/html": [
       "<div>\n",
       "<style scoped>\n",
       "    .dataframe tbody tr th:only-of-type {\n",
       "        vertical-align: middle;\n",
       "    }\n",
       "\n",
       "    .dataframe tbody tr th {\n",
       "        vertical-align: top;\n",
       "    }\n",
       "\n",
       "    .dataframe thead th {\n",
       "        text-align: right;\n",
       "    }\n",
       "</style>\n",
       "<table border=\"1\" class=\"dataframe\">\n",
       "  <thead>\n",
       "    <tr style=\"text-align: right;\">\n",
       "      <th></th>\n",
       "      <th>age</th>\n",
       "      <th>n_siblings_spouses</th>\n",
       "      <th>parch</th>\n",
       "      <th>fare</th>\n",
       "    </tr>\n",
       "  </thead>\n",
       "  <tbody>\n",
       "    <tr>\n",
       "      <th>count</th>\n",
       "      <td>627.000000</td>\n",
       "      <td>627.000000</td>\n",
       "      <td>627.000000</td>\n",
       "      <td>627.000000</td>\n",
       "    </tr>\n",
       "    <tr>\n",
       "      <th>mean</th>\n",
       "      <td>29.631308</td>\n",
       "      <td>0.545455</td>\n",
       "      <td>0.379585</td>\n",
       "      <td>34.385399</td>\n",
       "    </tr>\n",
       "    <tr>\n",
       "      <th>std</th>\n",
       "      <td>12.511818</td>\n",
       "      <td>1.151090</td>\n",
       "      <td>0.792999</td>\n",
       "      <td>54.597730</td>\n",
       "    </tr>\n",
       "    <tr>\n",
       "      <th>min</th>\n",
       "      <td>0.750000</td>\n",
       "      <td>0.000000</td>\n",
       "      <td>0.000000</td>\n",
       "      <td>0.000000</td>\n",
       "    </tr>\n",
       "    <tr>\n",
       "      <th>25%</th>\n",
       "      <td>23.000000</td>\n",
       "      <td>0.000000</td>\n",
       "      <td>0.000000</td>\n",
       "      <td>7.895800</td>\n",
       "    </tr>\n",
       "    <tr>\n",
       "      <th>50%</th>\n",
       "      <td>28.000000</td>\n",
       "      <td>0.000000</td>\n",
       "      <td>0.000000</td>\n",
       "      <td>15.045800</td>\n",
       "    </tr>\n",
       "    <tr>\n",
       "      <th>75%</th>\n",
       "      <td>35.000000</td>\n",
       "      <td>1.000000</td>\n",
       "      <td>0.000000</td>\n",
       "      <td>31.387500</td>\n",
       "    </tr>\n",
       "    <tr>\n",
       "      <th>max</th>\n",
       "      <td>80.000000</td>\n",
       "      <td>8.000000</td>\n",
       "      <td>5.000000</td>\n",
       "      <td>512.329200</td>\n",
       "    </tr>\n",
       "  </tbody>\n",
       "</table>\n",
       "</div>"
      ],
      "text/plain": [
       "              age  n_siblings_spouses       parch        fare\n",
       "count  627.000000          627.000000  627.000000  627.000000\n",
       "mean    29.631308            0.545455    0.379585   34.385399\n",
       "std     12.511818            1.151090    0.792999   54.597730\n",
       "min      0.750000            0.000000    0.000000    0.000000\n",
       "25%     23.000000            0.000000    0.000000    7.895800\n",
       "50%     28.000000            0.000000    0.000000   15.045800\n",
       "75%     35.000000            1.000000    0.000000   31.387500\n",
       "max     80.000000            8.000000    5.000000  512.329200"
      ]
     },
     "execution_count": 6,
     "metadata": {},
     "output_type": "execute_result"
    }
   ],
   "source": [
    "dftrain.describe()"
   ]
  },
  {
   "cell_type": "code",
   "execution_count": 7,
   "id": "ac46f23c",
   "metadata": {},
   "outputs": [
    {
     "data": {
      "text/plain": [
       "<Axes: ylabel='class'>"
      ]
     },
     "execution_count": 7,
     "metadata": {},
     "output_type": "execute_result"
    },
    {
     "data": {
      "image/png": "[encoded data removed]",
      "text/plain": [
       "<Figure size 640x480 with 1 Axes>"
      ]
     },
     "metadata": {},
     "output_type": "display_data"
    }
   ],
   "source": [
    "dftrain.sex.value_counts().plot(kind='barh')\n",
    "# either way of accessing object (dataframe) keys allowed\n",
    "dftrain['class'].value_counts().plot(kind='barh')"
   ]
  },
  {
   "cell_type": "code",
   "execution_count": 8,
   "id": "724f5242",
   "metadata": {},
   "outputs": [
    {
     "data": {
      "text/plain": [
       "Text(0.5, 0, '% survived')"
      ]
     },
     "execution_count": 8,
     "metadata": {},
     "output_type": "execute_result"
    },
    {
     "data": {
      "image/png": "[encoded data removed]",
      "text/plain": [
       "<Figure size 640x480 with 1 Axes>"
      ]
     },
     "metadata": {},
     "output_type": "display_data"
    }
   ],
   "source": [
    "pd.concat([dftrain, y_train], axis=1).groupby('sex').survived.mean().plot(kind='barh').set_xlabel('% survived')"
   ]
  },
  {
   "cell_type": "markdown",
   "id": "a8104de8",
   "metadata": {},
   "source": [
    "## Feature Columns\n",
    "- Categorical data, like the `sex` column in our dataset, need to be converted from non-numerical to numerical data before the algorithm can train on them. (machines for the purposes of this argument can't understand what `Male` means and what `Female` mean )\n",
    "- We can do this by encoding each category with an integer (ex. male = 1, female = 2)"
   ]
  },
  {
   "cell_type": "code",
   "execution_count": 9,
   "id": "52d62d76",
   "metadata": {},
   "outputs": [],
   "source": [
    "CATEGORICAL_COLUMNS = ['sex', 'n_siblings_spouses', 'parch', 'class', 'deck', 'embark_town', 'alone']\n",
    "NUMERIC_COLUMNS = ['age', 'fare']"
   ]
  },
  {
   "cell_type": "code",
   "execution_count": 10,
   "id": "f7c6c92a",
   "metadata": {},
   "outputs": [
    {
     "name": "stdout",
     "output_type": "stream",
     "text": [
      "9\n",
      "[<KerasTensor shape=(None, 3), dtype=float32, sparse=False, ragged=False, name=keras_tensor_1>, <KerasTensor shape=(None, 8), dtype=float32, sparse=False, ragged=False, name=keras_tensor_3>, <KerasTensor shape=(None, 7), dtype=float32, sparse=False, ragged=False, name=keras_tensor_5>, <KerasTensor shape=(None, 4), dtype=float32, sparse=False, ragged=False, name=keras_tensor_7>, <KerasTensor shape=(None, 9), dtype=float32, sparse=False, ragged=False, name=keras_tensor_9>, <KerasTensor shape=(None, 5), dtype=float32, sparse=False, ragged=False, name=keras_tensor_11>, <KerasTensor shape=(None, 3), dtype=float32, sparse=False, ragged=False, name=keras_tensor_13>, <KerasTensor shape=(None, 1), dtype=float32, sparse=False, ragged=False, name=keras_tensor_14>, <KerasTensor shape=(None, 1), dtype=float32, sparse=False, ragged=False, name=keras_tensor_15>]\n"
     ]
    }
   ],
   "source": [
    "inputs = {\n",
    "    col: tf.keras.Input(shape=(1,), name=col, dtype=tf.string if dftrain[col].dtype == object else tf.float32)\n",
    "    for col in CATEGORICAL_COLUMNS + NUMERIC_COLUMNS\n",
    "}\n",
    "\n",
    "def get_lookup_layer(feature_name):\n",
    "    vocab = np.unique(dftrain[feature_name].values)\n",
    "    if dftrain[feature_name].dtype == object:\n",
    "        return tf.keras.layers.StringLookup(vocabulary=vocab), len(vocab) + 1\n",
    "    else:\n",
    "        return tf.keras.layers.IntegerLookup(vocabulary=vocab), len(vocab) + 1\n",
    "    \n",
    "encoded_features = []\n",
    "\n",
    "for feature_name in CATEGORICAL_COLUMNS:\n",
    "    lookup, num_tokens = get_lookup_layer(feature_name=feature_name)\n",
    "    encoded_indices = lookup(inputs[feature_name])\n",
    "    one_hot_layer = tf.keras.layers.CategoryEncoding(num_tokens=num_tokens, output_mode='one_hot' )(encoded_indices)\n",
    "    encoded_features.append(one_hot_layer)\n",
    "\n",
    "for feature_name in NUMERIC_COLUMNS:\n",
    "    # Create input layer\n",
    "    inputs[feature_name] = tf.keras.Input(shape=(1,), name=feature_name, dtype=tf.float32)\n",
    "\n",
    "    # Create and adapt normalization layer\n",
    "    normalizer = tf.keras.layers.Normalization(axis=None)  # axis=None → normalize across entire column\n",
    "    normalizer.adapt(np.array(dftrain[feature_name]))  # Use only training data here!\n",
    "\n",
    "    # Apply normalization\n",
    "    normalized_feature = normalizer(inputs[feature_name])\n",
    "\n",
    "    encoded_features.append(normalized_feature)\n",
    "\n",
    "print(len(encoded_features))\n",
    "print(encoded_features)"
   ]
  },
  {
   "cell_type": "markdown",
   "id": "7d74e1b0",
   "metadata": {},
   "source": [
    "## Training Process\n",
    "- To account for situations where very large volumes of data are being trained on, TensorFlow allows us to _stream_ model data in __batches.__\n",
    "- We'll use a batch size in this tutorial of 32 as it's going to be far more performant than 1 by 1, and less prone to error or other problems if the entire dataset were dumped in the model at once.\n",
    "- An __epoch__ is one stream of the entire dataset. The number of _epochs_ defined is the amount of times the model will see the _**entire**_ dataset. Multiple epochs are used in hopes that after seeing the same data multiple times the model will better determine how to estimate / predict it. \n",
    "- Since we need to feed our data in batches, and then do so multiple times, we need to create an __input function__ _(not to be confused with activation function)._ The _input function_ will define how our dataset is partitioned or converted into _batches_ at each _epoch_"
   ]
  }
 ],
 "metadata": {
  "kernelspec": {
   "display_name": "Python 3",
   "language": "python",
   "name": "python3"
  },
  "language_info": {
   "codemirror_mode": {
    "name": "ipython",
    "version": 3
   },
   "file_extension": ".py",
   "mimetype": "text/x-python",
   "name": "python",
   "nbconvert_exporter": "python",
   "pygments_lexer": "ipython3",
   "version": "3.11.10"
  }
 },
 "nbformat": 4,
 "nbformat_minor": 5
}
